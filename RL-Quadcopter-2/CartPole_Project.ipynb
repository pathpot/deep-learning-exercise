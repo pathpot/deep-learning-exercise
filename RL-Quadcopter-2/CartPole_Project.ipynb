{
 "cells": [
  {
   "cell_type": "code",
   "execution_count": 4,
   "metadata": {},
   "outputs": [
    {
     "name": "stdout",
     "output_type": "stream",
     "text": [
      "The autoreload extension is already loaded. To reload it, use:\n",
      "  %reload_ext autoreload\n"
     ]
    }
   ],
   "source": [
    "%load_ext autoreload\n",
    "%autoreload 2\n",
    "\n",
    "import gym\n",
    "\n",
    "class CartPoleTask():\n",
    "    \"\"\"Task (environment) that defines the goal and provides feedback to the agent.\"\"\"\n",
    "    def __init__(self):\n",
    "        self.env = gym.make('CartPole-v0')\n",
    "        self.action_repeat = 1\n",
    "\n",
    "        self.state_size = self.action_repeat * self.env.observation_space.shape[0]\n",
    "        self.action_low = -1\n",
    "        self.action_high = 1\n",
    "        self.action_size = 1\n",
    "\n",
    "    def step(self, raw_action):\n",
    "        \"\"\"Uses action to obtain next state, reward, done.\"\"\"\n",
    "        \n",
    "        # hack for converting action double -> int\n",
    "        action = 1 if raw_action[0] >= 0 else 0\n",
    "        \n",
    "        total_reward = 0\n",
    "        states = []\n",
    "        for _ in range(self.action_repeat):\n",
    "            state, reward, done, _ = self.env.step(action)\n",
    "            total_reward += reward\n",
    "            states.append(state)\n",
    "        return np.concatenate(states), total_reward, done\n",
    "\n",
    "    def reset(self):\n",
    "        \"\"\"Reset the sim to start a new episode.\"\"\"\n",
    "        state = self.env.reset()\n",
    "        return np.concatenate([state] * self.action_repeat)"
   ]
  },
  {
   "cell_type": "code",
   "execution_count": 5,
   "metadata": {},
   "outputs": [
    {
     "name": "stdout",
     "output_type": "stream",
     "text": [
      "Episode =  300, Reward = 88.0, Best Average Reward = 157.667"
     ]
    }
   ],
   "source": [
    "from agents.agent import DDPG_Agent\n",
    "from collections import deque\n",
    "import numpy as np\n",
    "import sys\n",
    "\n",
    "num_train_episodes = 300\n",
    "max_step = 200\n",
    "task = CartPoleTask()\n",
    "agent = DDPG_Agent(task)\n",
    "\n",
    "window_reward_size = 100\n",
    "window_rewards = deque(maxlen=window_reward_size)\n",
    "avg_rewards = []\n",
    "best_avg_reward = 0\n",
    "\n",
    "for i_episode in range(1, num_train_episodes+1):\n",
    "    state = agent.reset_episode() # start a new episode\n",
    "\n",
    "    episode_reward = 0\n",
    "    \n",
    "    for _ in range(max_step):\n",
    "        action = agent.act(state, enable_exploration = True) \n",
    "        next_state, reward, done = task.step(action)\n",
    "        agent.step(action, reward, next_state, done)\n",
    "        \n",
    "        state = next_state\n",
    "        episode_reward += reward\n",
    "        \n",
    "        if done:\n",
    "            print(\"\\rEpisode = {:4d}, Reward = {}, Best Average Reward = {}\".format(i_episode, episode_reward, best_avg_reward), end=\"\")\n",
    "            window_rewards.append(episode_reward)\n",
    "            break\n",
    "\n",
    "    if(i_episode >= window_reward_size):\n",
    "        avg_reward = np.mean(window_rewards)\n",
    "        avg_rewards.append(avg_reward)\n",
    "        \n",
    "        if(len(avg_rewards) == 1):\n",
    "            best_avg_reward = avg_reward\n",
    "        elif(avg_reward > best_avg_reward):\n",
    "            best_avg_reward = avg_reward\n",
    "\n",
    "        \n",
    "    sys.stdout.flush()"
   ]
  },
  {
   "cell_type": "code",
   "execution_count": 6,
   "metadata": {},
   "outputs": [
    {
     "data": {
      "text/plain": [
       "[<matplotlib.lines.Line2D at 0x7f63a238fcc0>]"
      ]
     },
     "execution_count": 6,
     "metadata": {},
     "output_type": "execute_result"
    },
    {
     "data": {
      "image/png": "[encoded data removed]",
      "text/plain": [
       "<matplotlib.figure.Figure at 0x7f63b1668c18>"
      ]
     },
     "metadata": {},
     "output_type": "display_data"
    }
   ],
   "source": [
    "import matplotlib.pyplot as plt\n",
    "%matplotlib inline\n",
    "\n",
    "# plot average reward\n",
    "plt.plot(avg_rewards)"
   ]
  },
  {
   "cell_type": "code",
   "execution_count": 10,
   "metadata": {},
   "outputs": [
    {
     "name": "stdout",
     "output_type": "stream",
     "text": [
      "Episode =   20, Reward = 200.0"
     ]
    },
    {
     "data": {
      "text/plain": [
       "[<matplotlib.lines.Line2D at 0x7f63a3954f60>]"
      ]
     },
     "execution_count": 10,
     "metadata": {},
     "output_type": "execute_result"
    },
    {
     "data": {
      "image/png": "[encoded data removed]",
      "text/plain": [
       "<matplotlib.figure.Figure at 0x7f63a24bc9e8>"
      ]
     },
     "metadata": {},
     "output_type": "display_data"
    }
   ],
   "source": [
    "num_test_episodes = 20\n",
    "exploit_rewards = []\n",
    "\n",
    "for i_episode in range(1, num_test_episodes+1):\n",
    "    state = agent.reset_episode() # start a new episode\n",
    "\n",
    "    episode_reward = 0\n",
    "    \n",
    "    for _ in range(max_step):\n",
    "        action = agent.act(state, enable_exploration = False) \n",
    "        next_state, reward, done = task.step(action)\n",
    "        agent.step(action, reward, next_state, done)\n",
    "        \n",
    "        state = next_state\n",
    "        episode_reward += reward\n",
    "        \n",
    "        if done:\n",
    "            print(\"\\rEpisode = {:4d}, Reward = {}\".format(i_episode, episode_reward), end=\"\")\n",
    "            exploit_rewards.append(episode_reward)\n",
    "            break\n",
    "\n",
    "# maximum reward per episode is 200\n",
    "plt.plot(exploit_rewards)"
   ]
  }
 ],
 "metadata": {
  "kernelspec": {
   "display_name": "Python 3",
   "language": "python",
   "name": "python3"
  },
  "language_info": {
   "codemirror_mode": {
    "name": "ipython",
    "version": 3
   },
   "file_extension": ".py",
   "mimetype": "text/x-python",
   "name": "python",
   "nbconvert_exporter": "python",
   "pygments_lexer": "ipython3",
   "version": "3.5.2"
  }
 },
 "nbformat": 4,
 "nbformat_minor": 2
}
